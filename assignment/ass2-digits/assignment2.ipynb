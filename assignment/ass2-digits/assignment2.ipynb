{
 "cells": [
  {
   "cell_type": "code",
   "execution_count": 12,
   "metadata": {},
   "outputs": [],
   "source": [
    "import numpy as np\n",
    "from PIL import Image\n",
    "import matplotlib.pyplot as plt\n",
    "from sklearn.datasets import load_digits\n",
    "from sklearn.model_selection import train_test_split"
   ]
  },
  {
   "cell_type": "code",
   "execution_count": 9,
   "metadata": {},
   "outputs": [],
   "source": [
    "# load minist dataset using sklearn with train test split (no test set)\n",
    "def load_minist():\n",
    "    minist_data = load_digits()\n",
    "    pixel_data, labels = minist_data['data'], minist_data['target']\n",
    "    return train_test_split(pixel_data, labels, test_size=0.3)\n",
    "\n",
    "# demonstration of the dataset \n",
    "def demo():\n",
    "    x, _, y, _ = load_minist()\n",
    "    for idx, img in enumerate(x):\n",
    "        print('*' * 10 + '%d\\'s image:'%y[idx] + '*' * 10)\n",
    "        plt.imshow(img.reshape(8, 8), cmap='gray')\n",
    "        plt.show()\n",
    "        cmd = input('Press enter to see the next image or press q to quit...\\n')\n",
    "        if cmd == 'q':\n",
    "            break\n",
    "    print('Bye~')\n",
    "    return\n",
    "    "
   ]
  },
  {
   "cell_type": "code",
   "execution_count": null,
   "metadata": {},
   "outputs": [],
   "source": [
    "# run this\n",
    "demo()"
   ]
  },
  {
   "cell_type": "code",
   "execution_count": null,
   "metadata": {},
   "outputs": [],
   "source": [
    "# load data\n",
    "x_train, x_test, y_train, y_test = load_minist()\n",
    "print('training data size: ', x_train.shape)\n",
    "print('test data size: ', x_test.shape)"
   ]
  },
  {
   "cell_type": "code",
   "execution_count": 1,
   "metadata": {},
   "outputs": [],
   "source": [
    "# define your own sklearn method \n",
    "model = None\n",
    "# to complete the codes\n",
    "# \n",
    "#\n",
    "#"
   ]
  },
  {
   "cell_type": "code",
   "execution_count": null,
   "metadata": {},
   "outputs": [],
   "source": [
    "# evaluate your model\n",
    "pred = model.predict(x_test)\n",
    "acc = float(np.sum((pred == y_test) / y_test.shape[0]))\n",
    "print('Your accuracy: ', acc)"
   ]
  },
  {
   "cell_type": "code",
   "execution_count": null,
   "metadata": {},
   "outputs": [],
   "source": []
  }
 ],
 "metadata": {
  "kernelspec": {
   "display_name": "Python 3",
   "language": "python",
   "name": "python3"
  },
  "language_info": {
   "codemirror_mode": {
    "name": "ipython",
    "version": 3
   },
   "file_extension": ".py",
   "mimetype": "text/x-python",
   "name": "python",
   "nbconvert_exporter": "python",
   "pygments_lexer": "ipython3",
   "version": "3.6.7"
  }
 },
 "nbformat": 4,
 "nbformat_minor": 2
}
